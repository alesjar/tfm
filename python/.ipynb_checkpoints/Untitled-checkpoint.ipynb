{
 "cells": [
  {
   "cell_type": "markdown",
   "id": "dcf0efa9-6bda-4f85-8c1f-fd176102263d",
   "metadata": {
    "editable": true,
    "slideshow": {
     "slide_type": ""
    },
    "tags": []
   },
   "source": [
    "# Pruebas para mejorar el código del TFM"
   ]
  },
  {
   "cell_type": "code",
   "execution_count": 47,
   "id": "ffe543b0-fa5a-47d0-acde-2c136424b228",
   "metadata": {
    "editable": true,
    "slideshow": {
     "slide_type": ""
    },
    "tags": []
   },
   "outputs": [],
   "source": [
    "import math\n",
    "import numpy as np\n",
    "import matplotlib.pyplot as plt\n",
    "import clouds as cd\n",
    "import distances as dist\n",
    "from itertools import chain, combinations\n",
    "import networkx as nx"
   ]
  },
  {
   "cell_type": "code",
   "execution_count": 3,
   "id": "f6769b75-439d-4c08-a287-5d15b1252b9b",
   "metadata": {
    "editable": true,
    "slideshow": {
     "slide_type": ""
    },
    "tags": []
   },
   "outputs": [],
   "source": [
    "n = 10\n",
    "eps = 2*math.pi/n\n",
    "nube = cd.crearnubecircunferencia(eps, 1, (0,0))"
   ]
  },
  {
   "cell_type": "code",
   "execution_count": 4,
   "id": "d5ee82cb-5900-45dc-a195-26395c651267",
   "metadata": {},
   "outputs": [],
   "source": [
    "dist_matrix = dist.dist_matrix(nube)"
   ]
  },
  {
   "cell_type": "code",
   "execution_count": 5,
   "id": "bc302b69-d531-4e60-b707-b748b2574592",
   "metadata": {
    "editable": true,
    "slideshow": {
     "slide_type": ""
    },
    "tags": []
   },
   "outputs": [],
   "source": [
    "def diamconjunto_org(c, dist_matrix):\n",
    "    listadistancias = [];\n",
    "    lista = list(c);\n",
    "    m = len(lista);\n",
    "    if m == 0 or m == 1:\n",
    "        return 0\n",
    "    else:\n",
    "        for i in range(m):\n",
    "            for j in range(i+1,m):\n",
    "                listadistancias.append(dist_matrix[lista[i]][lista[j]])\n",
    "        return max(listadistancias)"
   ]
  },
  {
   "cell_type": "code",
   "execution_count": 6,
   "id": "bc1760d2-9d41-44f1-bb92-d54c7e359ba2",
   "metadata": {},
   "outputs": [],
   "source": [
    "c = {0,1,2,5}"
   ]
  },
  {
   "cell_type": "code",
   "execution_count": 7,
   "id": "45d241cf-887d-4749-98c5-4bb770e89ea3",
   "metadata": {},
   "outputs": [
    {
     "data": {
      "text/plain": [
       "[0, 1, 2, 5]"
      ]
     },
     "execution_count": 7,
     "metadata": {},
     "output_type": "execute_result"
    }
   ],
   "source": [
    "list(c)"
   ]
  },
  {
   "cell_type": "code",
   "execution_count": 8,
   "id": "69a94d25-6420-41bd-b1e7-4e0d373879dd",
   "metadata": {},
   "outputs": [
    {
     "data": {
      "text/plain": [
       "2.0"
      ]
     },
     "execution_count": 8,
     "metadata": {},
     "output_type": "execute_result"
    }
   ],
   "source": [
    "diamconjunto_org(c, dist_matrix)"
   ]
  },
  {
   "cell_type": "code",
   "execution_count": 9,
   "id": "26f2e222-c70c-4580-86a6-41b17d3734a4",
   "metadata": {},
   "outputs": [
    {
     "name": "stdout",
     "output_type": "stream",
     "text": [
      "2.33 µs ± 38.5 ns per loop (mean ± std. dev. of 7 runs, 100,000 loops each)\n"
     ]
    }
   ],
   "source": [
    "%%timeit\n",
    "diamconjunto_org(c, dist_matrix)"
   ]
  },
  {
   "cell_type": "code",
   "execution_count": 10,
   "id": "24dfe839-02fd-4679-b8b7-76c88dcb5564",
   "metadata": {
    "editable": true,
    "slideshow": {
     "slide_type": ""
    },
    "tags": []
   },
   "outputs": [],
   "source": [
    "def diamconjunto_2(c, dist_matrix):\n",
    "    max = 0\n",
    "    lista = list(c)\n",
    "    m = len(lista)\n",
    "    if m == 0 or m == 1:\n",
    "        return 0\n",
    "    else:\n",
    "        for i in range(m):\n",
    "            for j in range(i+1,m):\n",
    "                d = dist_matrix[lista[i]][lista[j]]\n",
    "                if d>max:\n",
    "                    max = d\n",
    "        return max"
   ]
  },
  {
   "cell_type": "code",
   "execution_count": 11,
   "id": "b75c98db-a3ae-4283-9ed8-17242f102c85",
   "metadata": {},
   "outputs": [
    {
     "name": "stdout",
     "output_type": "stream",
     "text": [
      "2.12 µs ± 80.4 ns per loop (mean ± std. dev. of 7 runs, 100,000 loops each)\n"
     ]
    }
   ],
   "source": [
    "%%timeit\n",
    "diamconjunto_2(c, dist_matrix)"
   ]
  },
  {
   "cell_type": "code",
   "execution_count": 12,
   "id": "12c3c9f5-3c4a-4886-ad0c-29157904cbf2",
   "metadata": {},
   "outputs": [],
   "source": [
    "def diam(c):\n",
    "    max = 0\n",
    "    lista = list(c)\n",
    "    m = len(lista)\n",
    "    if m == 0 or m == 1:\n",
    "        return 0\n",
    "    else:\n",
    "        for i in range(m):\n",
    "            for j in range(i+1,m):\n",
    "                d = dist_matrix[lista[i]][lista[j]]\n",
    "                if d>max:\n",
    "                    max = d\n",
    "        return max"
   ]
  },
  {
   "cell_type": "code",
   "execution_count": 13,
   "id": "154ef1ea-6d75-42bd-9e37-9e2d22d0a56a",
   "metadata": {},
   "outputs": [
    {
     "name": "stdout",
     "output_type": "stream",
     "text": [
      "2.14 µs ± 46 ns per loop (mean ± std. dev. of 7 runs, 100,000 loops each)\n"
     ]
    }
   ],
   "source": [
    "%%timeit\n",
    "diam(c)"
   ]
  },
  {
   "cell_type": "code",
   "execution_count": 14,
   "id": "7fdefc46-b1a6-4a09-a5a1-038f14345190",
   "metadata": {
    "editable": true,
    "slideshow": {
     "slide_type": ""
    },
    "tags": []
   },
   "outputs": [],
   "source": [
    "def powerset(iterable):\n",
    "    s = list(iterable)\n",
    "    return list(chain.from_iterable(combinations(s, r) for r in range(len(s),-1,-1)))"
   ]
  },
  {
   "cell_type": "code",
   "execution_count": 15,
   "id": "923cec36-b3d5-45cf-bd45-e9825654a879",
   "metadata": {
    "editable": true,
    "slideshow": {
     "slide_type": ""
    },
    "tags": []
   },
   "outputs": [],
   "source": [
    "s = [1,2,3]"
   ]
  },
  {
   "cell_type": "code",
   "execution_count": 16,
   "id": "e4d836c5-8765-410e-8b03-8419b42b4731",
   "metadata": {
    "editable": true,
    "slideshow": {
     "slide_type": ""
    },
    "tags": []
   },
   "outputs": [],
   "source": [
    "i = [combinations(s, r) for r in range(len(s),-1,-1)]"
   ]
  },
  {
   "cell_type": "code",
   "execution_count": 17,
   "id": "02b47da4-c0c8-4c77-9d2c-89a971b41f65",
   "metadata": {
    "editable": true,
    "slideshow": {
     "slide_type": ""
    },
    "tags": []
   },
   "outputs": [
    {
     "name": "stdout",
     "output_type": "stream",
     "text": [
      "3\n",
      "2\n",
      "1\n",
      "0\n"
     ]
    }
   ],
   "source": [
    "for r in range(len(s),-1,-1):\n",
    "    print(r)"
   ]
  },
  {
   "cell_type": "code",
   "execution_count": 18,
   "id": "612ebcae-59c5-40d6-b7f2-d4c0db029086",
   "metadata": {
    "editable": true,
    "slideshow": {
     "slide_type": ""
    },
    "tags": []
   },
   "outputs": [
    {
     "data": {
      "text/plain": [
       "[(1, 2), (1, 3), (2, 3)]"
      ]
     },
     "execution_count": 18,
     "metadata": {},
     "output_type": "execute_result"
    }
   ],
   "source": [
    "list(combinations(s, 2))"
   ]
  },
  {
   "cell_type": "code",
   "execution_count": 19,
   "id": "e09e6ddd-6afd-4aa2-b4b1-e6f160cedb16",
   "metadata": {
    "editable": true,
    "slideshow": {
     "slide_type": ""
    },
    "tags": []
   },
   "outputs": [
    {
     "data": {
      "text/plain": [
       "[(1, 2, 3), (1, 2), (1, 3), (2, 3), (1,), (2,), (3,), ()]"
      ]
     },
     "execution_count": 19,
     "metadata": {},
     "output_type": "execute_result"
    }
   ],
   "source": [
    "list(chain.from_iterable(combinations(s, r) for r in range(len(s),-1,-1)))"
   ]
  },
  {
   "cell_type": "code",
   "execution_count": 20,
   "id": "d848f4d8-5a6e-42f0-9ac5-bf463d10374f",
   "metadata": {},
   "outputs": [],
   "source": [
    "l = list(range(n))"
   ]
  },
  {
   "cell_type": "code",
   "execution_count": 21,
   "id": "d275b834-f34d-4511-8cd7-b85d47609b08",
   "metadata": {},
   "outputs": [
    {
     "data": {
      "text/plain": [
       "[0, 1, 2, 3, 4, 5, 6, 7, 8, 9]"
      ]
     },
     "execution_count": 21,
     "metadata": {},
     "output_type": "execute_result"
    }
   ],
   "source": [
    "l"
   ]
  },
  {
   "cell_type": "code",
   "execution_count": 22,
   "id": "76d6fcfa-5128-403b-9a11-ffd081094903",
   "metadata": {},
   "outputs": [],
   "source": [
    "l1 = l"
   ]
  },
  {
   "cell_type": "code",
   "execution_count": 23,
   "id": "c6d5053e-bd11-46bd-b4a0-d5da55f97fcb",
   "metadata": {},
   "outputs": [],
   "source": [
    "s = [(i,) for i in range(len(nube))]"
   ]
  },
  {
   "cell_type": "code",
   "execution_count": 24,
   "id": "42c1dc48-d7c0-4c88-975f-70e5940a1fca",
   "metadata": {},
   "outputs": [
    {
     "data": {
      "text/plain": [
       "[(0,), (1,), (2,), (3,), (4,), (5,), (6,), (7,), (8,), (9,)]"
      ]
     },
     "execution_count": 24,
     "metadata": {},
     "output_type": "execute_result"
    }
   ],
   "source": [
    "s"
   ]
  },
  {
   "cell_type": "code",
   "execution_count": 25,
   "id": "54201a64-6235-41d1-a4dc-f214d9a4336f",
   "metadata": {},
   "outputs": [],
   "source": [
    "two_eps = 2*eps\n",
    "l = []\n",
    "for a, b in combinations(s, 2):\n",
    "    aub = a+b\n",
    "    if diam(aub)<two_eps:\n",
    "        l.append(aub)  "
   ]
  },
  {
   "cell_type": "code",
   "execution_count": 26,
   "id": "be20e616-1aec-42bb-8a4d-9658ef5b98e6",
   "metadata": {},
   "outputs": [
    {
     "data": {
      "text/plain": [
       "()"
      ]
     },
     "execution_count": 26,
     "metadata": {},
     "output_type": "execute_result"
    }
   ],
   "source": [
    "a[:-1]"
   ]
  },
  {
   "cell_type": "code",
   "execution_count": 27,
   "id": "8320d7ea-b532-434a-b497-c9692affae5c",
   "metadata": {},
   "outputs": [
    {
     "data": {
      "text/plain": [
       "()"
      ]
     },
     "execution_count": 27,
     "metadata": {},
     "output_type": "execute_result"
    }
   ],
   "source": [
    "b[:-1]"
   ]
  },
  {
   "cell_type": "code",
   "execution_count": 28,
   "id": "10c64d3f-e4b7-4629-89e3-fd8efcf8fefa",
   "metadata": {},
   "outputs": [
    {
     "data": {
      "text/plain": [
       "(8, 9)"
      ]
     },
     "execution_count": 28,
     "metadata": {},
     "output_type": "execute_result"
    }
   ],
   "source": [
    "tuple(sorted(set(a+b)))"
   ]
  },
  {
   "cell_type": "code",
   "execution_count": 29,
   "id": "4bcc8672-c08f-4324-8da6-f070405bc1c2",
   "metadata": {
    "editable": true,
    "scrolled": true,
    "slideshow": {
     "slide_type": ""
    },
    "tags": []
   },
   "outputs": [],
   "source": [
    "for a, b in combinations(l, 2):\n",
    "    if not a[:-1] == b[:-1]:\n",
    "        continue\n",
    "    else:\n",
    "        aub = tuple(sorted(set(a+b)))\n",
    "        if diam(aub)<two_eps:\n",
    "            l.append(aub)"
   ]
  },
  {
   "cell_type": "code",
   "execution_count": 30,
   "id": "bc8d4769-17db-4de0-bf1c-8f943450c0d7",
   "metadata": {},
   "outputs": [
    {
     "data": {
      "text/plain": [
       "[(0, 1),\n",
       " (0, 2),\n",
       " (0, 8),\n",
       " (0, 9),\n",
       " (1, 2),\n",
       " (1, 3),\n",
       " (1, 9),\n",
       " (2, 3),\n",
       " (2, 4),\n",
       " (3, 4),\n",
       " (3, 5),\n",
       " (4, 5),\n",
       " (4, 6),\n",
       " (5, 6),\n",
       " (5, 7),\n",
       " (6, 7),\n",
       " (6, 8),\n",
       " (7, 8),\n",
       " (7, 9),\n",
       " (8, 9),\n",
       " (0, 1, 2),\n",
       " (0, 1, 9),\n",
       " (0, 8, 9),\n",
       " (1, 2, 3),\n",
       " (2, 3, 4),\n",
       " (3, 4, 5),\n",
       " (4, 5, 6),\n",
       " (5, 6, 7),\n",
       " (6, 7, 8),\n",
       " (7, 8, 9)]"
      ]
     },
     "execution_count": 30,
     "metadata": {},
     "output_type": "execute_result"
    }
   ],
   "source": [
    "l"
   ]
  },
  {
   "cell_type": "code",
   "execution_count": 31,
   "id": "f76c54f0-4a6b-45d9-a011-93f0d9a9f617",
   "metadata": {},
   "outputs": [],
   "source": [
    "def get_nodes(cloud, eps):\n",
    "    two_eps = 2*eps\n",
    "    dist_matrix = dist.dist_matrix(cloud)\n",
    "    nodes = [(i,) for i in range(len(cloud))]\n",
    "    prev_nodes = nodes.copy()\n",
    "    edges = []\n",
    "    \n",
    "    # we continue if we have added more than 1 node in the last iteration\n",
    "    while len(prev_nodes)>1:\n",
    "        new_nodes = []\n",
    "        # we call the sets of nodes \"a\" and \"b\" \n",
    "        for a, b in combinations(prev_nodes, 2):\n",
    "            # if they aren't equal in every coordinate but 1, we don't need to check\n",
    "            if not a[:-1] == b[:-1]:\n",
    "                continue\n",
    "            else:\n",
    "                # compute union(a, b) and check its diameter\n",
    "                aub = tuple(sorted(set(a+b)))\n",
    "                if diam(aub)<two_eps:\n",
    "                    new_nodes.append(aub)\n",
    "                    nodes.append(aub)\n",
    "                    \n",
    "        prev_nodes = new_nodes\n",
    "    return nodes"
   ]
  },
  {
   "cell_type": "code",
   "execution_count": 32,
   "id": "dc1a9803-8020-4b63-b86c-fcdc55193e23",
   "metadata": {
    "scrolled": true
   },
   "outputs": [],
   "source": [
    "nodes = get_nodes(nube, eps)"
   ]
  },
  {
   "cell_type": "code",
   "execution_count": 33,
   "id": "feecb7f5-4a48-4659-8e3f-ddde315ece83",
   "metadata": {},
   "outputs": [
    {
     "data": {
      "text/plain": [
       "3"
      ]
     },
     "execution_count": 33,
     "metadata": {},
     "output_type": "execute_result"
    }
   ],
   "source": [
    "max(len(a) for a in nodes)"
   ]
  },
  {
   "cell_type": "code",
   "execution_count": 34,
   "id": "4dedc5f6-32a9-4a15-9dc1-53fcbc89d759",
   "metadata": {},
   "outputs": [
    {
     "name": "stdout",
     "output_type": "stream",
     "text": [
      "4.2 µs ± 42 ns per loop (mean ± std. dev. of 7 runs, 100,000 loops each)\n"
     ]
    }
   ],
   "source": [
    "%%timeit\n",
    "n = max(len(a) for a in nodes)\n",
    "max_len_nodes = [a for a in nodes if len(a)==n]"
   ]
  },
  {
   "cell_type": "code",
   "execution_count": 35,
   "id": "6b13de07-e721-439a-a705-60d86b8a3de8",
   "metadata": {},
   "outputs": [
    {
     "name": "stdout",
     "output_type": "stream",
     "text": [
      "2.34 µs ± 7.74 ns per loop (mean ± std. dev. of 7 runs, 100,000 loops each)\n"
     ]
    }
   ],
   "source": [
    "%%timeit\n",
    "max_len_nodes = []\n",
    "n = 0\n",
    "for a in nodes:\n",
    "    m = len(a)\n",
    "    if m>n:\n",
    "        n = m\n",
    "        max_len_nodes = [a]\n",
    "    else:\n",
    "        max_len_nodes.append(a)"
   ]
  },
  {
   "cell_type": "code",
   "execution_count": 36,
   "id": "319cd133-8f84-478d-a202-bafd34077cc1",
   "metadata": {},
   "outputs": [],
   "source": [
    "# esta es el doble de rapida\n",
    "def max_len_elems(list):\n",
    "    max_len_elems = []\n",
    "    n = 0\n",
    "    for x in list:\n",
    "        m = len(x)\n",
    "        if m>n:\n",
    "            n = m\n",
    "            max_len_elems = [x]\n",
    "        else:\n",
    "            max_len_elems.append(x)\n",
    "    return max_len_elems"
   ]
  },
  {
   "cell_type": "code",
   "execution_count": 37,
   "id": "e08666ab-dea7-4e16-bd4e-e990094f15b7",
   "metadata": {},
   "outputs": [
    {
     "name": "stdout",
     "output_type": "stream",
     "text": [
      "2.48 µs ± 43.2 ns per loop (mean ± std. dev. of 7 runs, 100,000 loops each)\n"
     ]
    }
   ],
   "source": [
    "%%timeit\n",
    "max_len_nodes = max_len_elems(nodes)"
   ]
  },
  {
   "cell_type": "code",
   "execution_count": 38,
   "id": "fbe17114-6583-474d-ab7c-f70c8be22995",
   "metadata": {},
   "outputs": [],
   "source": [
    "def powerset(iterable):\n",
    "    s = list(iterable)\n",
    "    return list(chain.from_iterable(combinations(s, r) for r in range(1, len(s))))"
   ]
  },
  {
   "cell_type": "code",
   "execution_count": 39,
   "id": "5245333c-cf5b-4d5a-a1c6-387946def647",
   "metadata": {},
   "outputs": [],
   "source": [
    "def inf_layer(iterable):\n",
    "    s = list(iterable)\n",
    "    return list(combinations(s, len(s)-1))"
   ]
  },
  {
   "cell_type": "code",
   "execution_count": 40,
   "id": "1feec4f9-fc45-401d-879f-5dccaa2cd7bc",
   "metadata": {},
   "outputs": [
    {
     "data": {
      "text/plain": [
       "(7, 9)"
      ]
     },
     "execution_count": 40,
     "metadata": {},
     "output_type": "execute_result"
    }
   ],
   "source": [
    "a"
   ]
  },
  {
   "cell_type": "code",
   "execution_count": 41,
   "id": "1d2d6e2d-9bab-4dd9-a6ed-14ce5482f7f8",
   "metadata": {},
   "outputs": [
    {
     "data": {
      "text/plain": [
       "[(7,), (9,)]"
      ]
     },
     "execution_count": 41,
     "metadata": {},
     "output_type": "execute_result"
    }
   ],
   "source": [
    "powerset(a)"
   ]
  },
  {
   "cell_type": "code",
   "execution_count": 42,
   "id": "0f04b94f-46e9-4573-9c42-641f48cd7f49",
   "metadata": {},
   "outputs": [
    {
     "data": {
      "text/plain": [
       "[(7,), (9,)]"
      ]
     },
     "execution_count": 42,
     "metadata": {},
     "output_type": "execute_result"
    }
   ],
   "source": [
    "inf_layer(a)"
   ]
  },
  {
   "cell_type": "code",
   "execution_count": 43,
   "id": "36ef055e-e889-42a7-a49d-679a51f15a73",
   "metadata": {},
   "outputs": [],
   "source": [
    "def get_edges(nodes):\n",
    "    edges = []\n",
    "    for a in nodes:\n",
    "        if len(a) == 1:\n",
    "            continue\n",
    "    \n",
    "        # we add all its immediately inferior nodes\n",
    "        for b in inf_layer(a):\n",
    "            edges.append((b, a))\n",
    "    return edges"
   ]
  },
  {
   "cell_type": "code",
   "execution_count": 44,
   "id": "850dfd37-a115-4957-9913-b3006c90062d",
   "metadata": {
    "scrolled": true
   },
   "outputs": [
    {
     "data": {
      "text/plain": [
       "[((0,), (0, 1)),\n",
       " ((1,), (0, 1)),\n",
       " ((0,), (0, 2)),\n",
       " ((2,), (0, 2)),\n",
       " ((0,), (0, 8)),\n",
       " ((8,), (0, 8)),\n",
       " ((0,), (0, 9)),\n",
       " ((9,), (0, 9)),\n",
       " ((1,), (1, 2)),\n",
       " ((2,), (1, 2)),\n",
       " ((1,), (1, 3)),\n",
       " ((3,), (1, 3)),\n",
       " ((1,), (1, 9)),\n",
       " ((9,), (1, 9)),\n",
       " ((2,), (2, 3)),\n",
       " ((3,), (2, 3)),\n",
       " ((2,), (2, 4)),\n",
       " ((4,), (2, 4)),\n",
       " ((3,), (3, 4)),\n",
       " ((4,), (3, 4)),\n",
       " ((3,), (3, 5)),\n",
       " ((5,), (3, 5)),\n",
       " ((4,), (4, 5)),\n",
       " ((5,), (4, 5)),\n",
       " ((4,), (4, 6)),\n",
       " ((6,), (4, 6)),\n",
       " ((5,), (5, 6)),\n",
       " ((6,), (5, 6)),\n",
       " ((5,), (5, 7)),\n",
       " ((7,), (5, 7)),\n",
       " ((6,), (6, 7)),\n",
       " ((7,), (6, 7)),\n",
       " ((6,), (6, 8)),\n",
       " ((8,), (6, 8)),\n",
       " ((7,), (7, 8)),\n",
       " ((8,), (7, 8)),\n",
       " ((7,), (7, 9)),\n",
       " ((9,), (7, 9)),\n",
       " ((8,), (8, 9)),\n",
       " ((9,), (8, 9)),\n",
       " ((0, 1), (0, 1, 2)),\n",
       " ((0, 2), (0, 1, 2)),\n",
       " ((1, 2), (0, 1, 2)),\n",
       " ((0, 1), (0, 1, 9)),\n",
       " ((0, 9), (0, 1, 9)),\n",
       " ((1, 9), (0, 1, 9)),\n",
       " ((0, 8), (0, 8, 9)),\n",
       " ((0, 9), (0, 8, 9)),\n",
       " ((8, 9), (0, 8, 9)),\n",
       " ((1, 2), (1, 2, 3)),\n",
       " ((1, 3), (1, 2, 3)),\n",
       " ((2, 3), (1, 2, 3)),\n",
       " ((2, 3), (2, 3, 4)),\n",
       " ((2, 4), (2, 3, 4)),\n",
       " ((3, 4), (2, 3, 4)),\n",
       " ((3, 4), (3, 4, 5)),\n",
       " ((3, 5), (3, 4, 5)),\n",
       " ((4, 5), (3, 4, 5)),\n",
       " ((4, 5), (4, 5, 6)),\n",
       " ((4, 6), (4, 5, 6)),\n",
       " ((5, 6), (4, 5, 6)),\n",
       " ((5, 6), (5, 6, 7)),\n",
       " ((5, 7), (5, 6, 7)),\n",
       " ((6, 7), (5, 6, 7)),\n",
       " ((6, 7), (6, 7, 8)),\n",
       " ((6, 8), (6, 7, 8)),\n",
       " ((7, 8), (6, 7, 8)),\n",
       " ((7, 8), (7, 8, 9)),\n",
       " ((7, 9), (7, 8, 9)),\n",
       " ((8, 9), (7, 8, 9))]"
      ]
     },
     "execution_count": 44,
     "metadata": {},
     "output_type": "execute_result"
    }
   ],
   "source": [
    "get_edges(nodes)"
   ]
  },
  {
   "cell_type": "code",
   "execution_count": 45,
   "id": "31753d36-1d36-4599-a409-b146d1384c00",
   "metadata": {},
   "outputs": [],
   "source": [
    "def make_graph(nodos, edges):\n",
    "    G = nx.DiGraph()\n",
    "    G.add_nodes_from(nodes)\n",
    "    G.add_edges_from(edges)\n",
    "    return G"
   ]
  },
  {
   "cell_type": "code",
   "execution_count": null,
   "id": "e506bacc-7904-4a64-8339-26029d1337f6",
   "metadata": {},
   "outputs": [],
   "source": [
    "def minimal_graph(G):\n",
    "    i = 0 # tracks the node\n",
    "    nodes = list(G.nodes)\n",
    "    n = len(nodes)\n",
    "    \n",
    "    while i<n and n>1:\n",
    "        node = nodes[i]\n",
    "        successors = list(G.successors(node))\n",
    "        predecessors = list(G.predecessors(node))\n",
    "        if len(successors) == 1:\n",
    "            sucessor = successors[0]\n",
    "            G.remove_node(node)\n",
    "            G.add_edges_from([(n, successor) for n in predecessors])\n",
    "            return hacerminimal(G)\n",
    "        elif len(predecessors) == 1:\n",
    "            predecessor = predecessors[0]\n",
    "            G.remove_node(node)\n",
    "            G.add_edges_from([(predecessor, n) for n in succesors])\n",
    "            return hacerminimal(G)\n",
    "        else:\n",
    "            i = i+1\n",
    "    return G"
   ]
  },
  {
   "cell_type": "code",
   "execution_count": 48,
   "id": "f8897fef-4fd5-4670-8ba7-2dd0d144b290",
   "metadata": {},
   "outputs": [],
   "source": [
    "nodes = get_nodes(nube, eps)\n",
    "edges = get_edges(nodes)\n",
    "G = make_graph(nodes, edges)"
   ]
  },
  {
   "cell_type": "code",
   "execution_count": 52,
   "id": "aa76c4ff-bcc8-4dad-a898-388cc4a5e883",
   "metadata": {},
   "outputs": [],
   "source": [
    "nodes = list(G.nodes)\n",
    "a = nodes[-1]"
   ]
  },
  {
   "cell_type": "code",
   "execution_count": 57,
   "id": "b82ca721-3306-4db8-ba45-ce115c6869f9",
   "metadata": {},
   "outputs": [
    {
     "data": {
      "text/plain": [
       "[(7, 8), (7, 9), (8, 9)]"
      ]
     },
     "execution_count": 57,
     "metadata": {},
     "output_type": "execute_result"
    }
   ],
   "source": [
    "list(G.predecessors(a))"
   ]
  },
  {
   "cell_type": "code",
   "execution_count": null,
   "id": "350b276e-f1a8-44ad-b4a2-ae2541c6c496",
   "metadata": {},
   "outputs": [],
   "source": []
  }
 ],
 "metadata": {
  "kernelspec": {
   "display_name": "Python 3 (ipykernel)",
   "language": "python",
   "name": "python3"
  },
  "language_info": {
   "codemirror_mode": {
    "name": "ipython",
    "version": 3
   },
   "file_extension": ".py",
   "mimetype": "text/x-python",
   "name": "python",
   "nbconvert_exporter": "python",
   "pygments_lexer": "ipython3",
   "version": "3.12.1"
  }
 },
 "nbformat": 4,
 "nbformat_minor": 5
}
